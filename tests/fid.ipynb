{
 "cells": [
  {
   "cell_type": "code",
   "execution_count": null,
   "metadata": {},
   "outputs": [],
   "source": [
    "import torch\n",
    "from torchmetrics.image.fid import FrechetInceptionDistance\n",
    "from utils import models, datasets"
   ]
  },
  {
   "cell_type": "code",
   "execution_count": null,
   "metadata": {},
   "outputs": [],
   "source": [
    "device = torch.device('mps')\n",
    "\n",
    "# Create models\n",
    "generator = models.GeneratorCelebA().to(device)\n",
    "discriminator = models.DiscriminatorCelebA().to(device)\n",
    "\n",
    "# Load weights (model.load_state_dict(torch.load(PATH)))\n",
    "generator.load_state_dict(torch.load('results/xgan/celeba/weights/gen_epoch_9.pth', map_location=torch.device(device)))\n",
    "discriminator.load_state_dict(torch.load('results/xgan/celeba/weights/disc_epoch_9.pth', map_location=torch.device(device)))"
   ]
  },
  {
   "cell_type": "code",
   "execution_count": null,
   "metadata": {},
   "outputs": [],
   "source": [
    "celeba_dataset = datasets.make_dataset(dataset='celeba', batch_size=1000)\n",
    "for reals, _ in celeba_dataset:\n",
    "    break\n",
    "\n",
    "noise = torch.randn(1000, 100, 1, 1, device=device)\n",
    "fakes = generator(noise)"
   ]
  },
  {
   "cell_type": "code",
   "execution_count": null,
   "metadata": {},
   "outputs": [],
   "source": [
    "fid = FrechetInceptionDistance(feature=64)\n",
    "\n",
    "fid.update(reals.to(torch.uint8), real=True)\n",
    "fid.update(fakes.to(torch.uint8), real=False)\n",
    "fid.compute()"
   ]
  }
 ],
 "metadata": {
  "kernelspec": {
   "display_name": "pytorch",
   "language": "python",
   "name": "python3"
  },
  "language_info": {
   "codemirror_mode": {
    "name": "ipython",
    "version": 3
   },
   "file_extension": ".py",
   "mimetype": "text/x-python",
   "name": "python",
   "nbconvert_exporter": "python",
   "pygments_lexer": "ipython3",
   "version": "3.10.9"
  },
  "orig_nbformat": 4
 },
 "nbformat": 4,
 "nbformat_minor": 2
}
