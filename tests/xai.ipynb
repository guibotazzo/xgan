{
 "cells": [
  {
   "cell_type": "code",
   "execution_count": null,
   "metadata": {},
   "outputs": [],
   "source": [
    "import sys\n",
    "import torch\n",
    "import matplotlib.pyplot as plt\n",
    "from captum.attr import Saliency, GuidedGradCam, DeepLift, Lime, DeepLiftShap\n",
    "\n",
    "sys.path.append(\"..\")\n",
    "from lib import models, utils"
   ]
  },
  {
   "cell_type": "code",
   "execution_count": null,
   "metadata": {},
   "outputs": [],
   "source": [
    "device = utils.select_device()\n",
    "\n",
    "generator = models.Generator28(noise_dim=100, channels=1, feature_maps=64).to(device)\n",
    "discriminator = models.Discriminator28(channels=1, feature_maps=64).to(device)\n",
    "\n",
    "generator.load_state_dict(torch.load('../weights/dcgan/mnist/gen_epoch_10.pth', map_location=torch.device(device)))\n",
    "discriminator.load_state_dict(torch.load('../weights/dcgan/mnist/disc_epoch_10.pth', map_location=torch.device(device)))"
   ]
  },
  {
   "cell_type": "code",
   "execution_count": null,
   "metadata": {},
   "outputs": [],
   "source": [
    "noise = torch.randn(1, 100, 1, 1, device=device)\n",
    "fake = generator(noise)\n",
    "\n",
    "# Saliency\n",
    "saliency = Saliency(discriminator)\n",
    "s_exp = saliency.attribute(fake)\n",
    "\n",
    "# DeepLift\n",
    "dl = DeepLift(discriminator)\n",
    "dl_exp = dl.attribute(fake)\n",
    "\n",
    "# GuidedGradCam\n",
    "ggc = GuidedGradCam(discriminator, discriminator.network[9])\n",
    "ggc_exp = ggc.attribute(fake)\n",
    "\n",
    "# Lime\n",
    "lime = Lime(discriminator)\n",
    "lime_exp = lime.attribute(fake, n_samples=200)\n",
    "\n",
    "# DeepLiftShap\n",
    "dls = DeepLiftShap(discriminator)\n",
    "dls_exp = dls.attribute(fake)"
   ]
  },
  {
   "cell_type": "code",
   "execution_count": null,
   "metadata": {},
   "outputs": [],
   "source": [
    "plt.figure(figsize=(7, 7))\n",
    "plt.subplot(1, 6, 1)\n",
    "plt.imshow(fake.detach().squeeze().numpy(), cmap=plt.cm.gray)\n",
    "plt.title(\"Original\")\n",
    "plt.xticks([])\n",
    "plt.yticks([])\n",
    "\n",
    "plt.subplot(1, 6, 2)\n",
    "plt.imshow(s_exp.detach().squeeze().numpy(), cmap=plt.cm.jet)\n",
    "plt.title(\"Saliency\")\n",
    "plt.xticks([])\n",
    "plt.yticks([])\n",
    "\n",
    "plt.subplot(1, 6, 3)\n",
    "plt.imshow(dl_exp.detach().squeeze().numpy(), cmap=plt.cm.jet)\n",
    "plt.title(\"DeepLift\")\n",
    "plt.xticks([])\n",
    "plt.yticks([])\n",
    "\n",
    "plt.subplot(1, 6, 4)\n",
    "plt.imshow(ggc_exp.cpu().detach().squeeze().numpy(), cmap=plt.cm.jet)\n",
    "plt.title(\"GuidedGradCam\")\n",
    "plt.xticks([])\n",
    "plt.yticks([])\n",
    "\n",
    "plt.subplot(1, 6, 5)\n",
    "plt.imshow(lime_exp.cpu().detach().squeeze().numpy(), cmap=plt.cm.jet)\n",
    "plt.title(\"Lime\")\n",
    "plt.xticks([])\n",
    "plt.yticks([])\n",
    "\n",
    "plt.subplot(1, 6, 4)\n",
    "plt.imshow(dls_exp.cpu().detach().squeeze().numpy(), cmap=plt.cm.jet)\n",
    "plt.title(\"DeepLiftShap\")\n",
    "plt.xticks([])\n",
    "plt.yticks([])"
   ]
  }
 ],
 "metadata": {
  "kernelspec": {
   "display_name": "pytorch",
   "language": "python",
   "name": "python3"
  },
  "language_info": {
   "codemirror_mode": {
    "name": "ipython",
    "version": 3
   },
   "file_extension": ".py",
   "mimetype": "text/x-python",
   "name": "python",
   "nbconvert_exporter": "python",
   "pygments_lexer": "ipython3",
   "version": "3.10.9"
  },
  "orig_nbformat": 4
 },
 "nbformat": 4,
 "nbformat_minor": 2
}
