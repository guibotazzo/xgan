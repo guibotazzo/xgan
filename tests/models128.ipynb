{
 "cells": [
  {
   "cell_type": "code",
   "execution_count": 15,
   "metadata": {},
   "outputs": [],
   "source": [
    "import torch\n",
    "import torch.nn as nn"
   ]
  },
  {
   "cell_type": "code",
   "execution_count": 16,
   "metadata": {},
   "outputs": [],
   "source": [
    "device = torch.device('cpu')"
   ]
  },
  {
   "cell_type": "code",
   "execution_count": 17,
   "metadata": {},
   "outputs": [],
   "source": [
    "class Discriminator128(nn.Module):\n",
    "    def __init__(self):\n",
    "        super(Discriminator128, self).__init__()\n",
    "        self.ndf = 64  # Size of feature maps in discriminator\n",
    "        self.nc = 3  # Number of channels of the training images\n",
    "\n",
    "        self.network = nn.Sequential(\n",
    "            nn.Conv2d(in_channels=3, out_channels=self.ndf, kernel_size=6, stride=2, padding=1, bias=False),\n",
    "            nn.LeakyReLU(0.2, inplace=True),\n",
    "\n",
    "            nn.Conv2d(in_channels=self.ndf, out_channels=self.ndf*2, kernel_size=6, stride=2, padding=1, bias=False),\n",
    "            nn.BatchNorm2d(self.ndf * 2),\n",
    "            nn.LeakyReLU(0.2, inplace=True),\n",
    "\n",
    "            nn.Conv2d(in_channels=self.ndf*2, out_channels=self.ndf*4, kernel_size=6, stride=2, padding=1, bias=False),\n",
    "            nn.BatchNorm2d(self.ndf * 4),\n",
    "            nn.LeakyReLU(0.2, inplace=True),\n",
    "\n",
    "            nn.Conv2d(in_channels=self.ndf*4, out_channels=self.ndf*8, kernel_size=6, stride=2, padding=1, bias=False),\n",
    "            nn.BatchNorm2d(self.ndf * 8),\n",
    "            nn.LeakyReLU(0.2, inplace=True),\n",
    "\n",
    "            nn.Conv2d(in_channels=self.ndf*8, out_channels=1, kernel_size=6, stride=1, padding=0, bias=False),\n",
    "            nn.Sigmoid()\n",
    "        )\n",
    "\n",
    "    def forward(self, input):\n",
    "        return self.network(input)"
   ]
  },
  {
   "cell_type": "code",
   "execution_count": 18,
   "metadata": {},
   "outputs": [],
   "source": [
    "class Generator128(nn.Module):\n",
    "    def __init__(self):\n",
    "        super(Generator128, self).__init__()\n",
    "\n",
    "        self.nz = 100  # Size of z latent vector\n",
    "        self.ngf = 64  # Size of feature maps in generator\n",
    "        self.nc = 3  # Number of channels in the training images\n",
    "\n",
    "        self.network = nn.Sequential(\n",
    "            nn.ConvTranspose2d(in_channels=self.nz, out_channels=self.ngf*8, kernel_size=6, stride=1, padding=0, bias=False),\n",
    "            nn.BatchNorm2d(self.ngf*8),\n",
    "            nn.ReLU(True),\n",
    "\n",
    "            nn.ConvTranspose2d(in_channels=self.ngf*8, out_channels=self.ngf*4, kernel_size=6, stride=2, padding=1, bias=False),\n",
    "            nn.BatchNorm2d(self.ngf*4),\n",
    "            nn.ReLU(True),\n",
    "\n",
    "            nn.ConvTranspose2d(in_channels=self.ngf*4, out_channels=self.ngf*2, kernel_size=6, stride=2, padding=1, bias=False),\n",
    "            nn.BatchNorm2d(self.ngf*2),\n",
    "            nn.ReLU(True),\n",
    "\n",
    "            nn.ConvTranspose2d(in_channels=self.ngf*2, out_channels=self.ngf, kernel_size=6, stride=2, padding=1, bias=False),\n",
    "            nn.BatchNorm2d(self.ngf),\n",
    "            nn.ReLU(True),\n",
    "\n",
    "            nn.ConvTranspose2d(in_channels=self.ngf, out_channels=self.nc, kernel_size=8, stride=2, padding=1, bias=False),\n",
    "            nn.Tanh()\n",
    "        )\n",
    "\n",
    "    def forward(self, input):\n",
    "        return self.network(input)"
   ]
  },
  {
   "cell_type": "code",
   "execution_count": 19,
   "metadata": {},
   "outputs": [],
   "source": [
    "discriminator = Discriminator128().to(device)\n",
    "generator = Generator128().to(device)"
   ]
  },
  {
   "cell_type": "code",
   "execution_count": 20,
   "metadata": {},
   "outputs": [
    {
     "name": "stdout",
     "output_type": "stream",
     "text": [
      "Fake size:  torch.Size([1, 3, 128, 128])\n"
     ]
    }
   ],
   "source": [
    "real = torch.zeros(1, 3, 128, 128)\n",
    "real = real.to(device)\n",
    "\n",
    "noise = torch.randn(1, 100, 1, 1)\n",
    "noise = noise.to(device)\n",
    "fake = generator(noise)\n",
    "print('Fake size: ', fake.size())"
   ]
  },
  {
   "cell_type": "code",
   "execution_count": 21,
   "metadata": {},
   "outputs": [
    {
     "name": "stdout",
     "output_type": "stream",
     "text": [
      "Pred real:  tensor([[[[0.5000]]]], grad_fn=<SigmoidBackward0>)\n",
      "Pred fake:  tensor([[[[0.3310]]]], grad_fn=<SigmoidBackward0>)\n"
     ]
    }
   ],
   "source": [
    "pred_real = discriminator(real)\n",
    "pred_fake = discriminator(fake)\n",
    "\n",
    "print('Pred real: ', pred_real)\n",
    "print('Pred fake: ', pred_fake)"
   ]
  }
 ],
 "metadata": {
  "kernelspec": {
   "display_name": "pytorch",
   "language": "python",
   "name": "python3"
  },
  "language_info": {
   "codemirror_mode": {
    "name": "ipython",
    "version": 3
   },
   "file_extension": ".py",
   "mimetype": "text/x-python",
   "name": "python",
   "nbconvert_exporter": "python",
   "pygments_lexer": "ipython3",
   "version": "3.10.9"
  },
  "orig_nbformat": 4
 },
 "nbformat": 4,
 "nbformat_minor": 2
}
