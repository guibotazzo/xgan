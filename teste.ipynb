{
 "cells": [
  {
   "cell_type": "code",
   "execution_count": null,
   "metadata": {},
   "outputs": [],
   "source": [
    "import torch\n",
    "import numpy as np\n",
    "import matplotlib.pyplot as plt\n",
    "from utils import models\n",
    "from torchvision.transforms import Normalize\n",
    "from captum.attr import Saliency"
   ]
  },
  {
   "cell_type": "code",
   "execution_count": null,
   "metadata": {},
   "outputs": [],
   "source": [
    "device = torch.device('mps')\n",
    "\n",
    "# Create models\n",
    "generator = models.GeneratorMNIST().to(device)\n",
    "discriminator = models.DiscriminatorMNIST().to(device)\n",
    "\n",
    "# Load weights (model.load_state_dict(torch.load(PATH)))\n",
    "generator.load_state_dict(torch.load('results/mnist/weights/gen_epoch_4.pth', map_location=torch.device(device)))\n",
    "discriminator.load_state_dict(torch.load('results/mnist/weights/disc_epoch_4.pth', map_location=torch.device(device)))"
   ]
  },
  {
   "cell_type": "code",
   "execution_count": null,
   "metadata": {},
   "outputs": [],
   "source": [
    "norm = Normalize((0.5,), (0.5,))"
   ]
  },
  {
   "cell_type": "code",
   "execution_count": null,
   "metadata": {},
   "outputs": [],
   "source": [
    "# Generate a fake sample\n",
    "noise = torch.randn(1, 100, 1, 1, device=device)\n",
    "\n",
    "fake = generator(noise)\n",
    "\n",
    "img = fake.cpu().detach().numpy()\n",
    "img = np.squeeze(img)\n",
    "\n",
    "plt.imshow(img, cmap='gray')"
   ]
  },
  {
   "cell_type": "code",
   "execution_count": null,
   "metadata": {},
   "outputs": [],
   "source": [
    "# Saliency\n",
    "saliency = Saliency(discriminator)\n",
    "explanation = saliency.attribute(fake)\n",
    "explanation = norm(explanation)\n",
    "\n",
    "grads_img = explanation.squeeze().cpu().detach().numpy()\n",
    "plt.imshow(grads_img)"
   ]
  },
  {
   "cell_type": "code",
   "execution_count": null,
   "metadata": {},
   "outputs": [],
   "source": [
    "print(torch.max(fake))\n",
    "print(torch.max(explanation))"
   ]
  },
  {
   "cell_type": "code",
   "execution_count": null,
   "metadata": {},
   "outputs": [],
   "source": [
    "mse = torch.nn.MSELoss(reduction='none')"
   ]
  },
  {
   "cell_type": "code",
   "execution_count": null,
   "metadata": {},
   "outputs": [],
   "source": [
    "mul = fake * -explanation\n",
    "# mse(fake, explanation)\n",
    "\n",
    "mul_img = mul.squeeze().cpu().detach().numpy()\n",
    "im = plt.imshow(mul_img)\n",
    "plt.colorbar(im)"
   ]
  }
 ],
 "metadata": {
  "kernelspec": {
   "display_name": "pytorch",
   "language": "python",
   "name": "python3"
  },
  "language_info": {
   "codemirror_mode": {
    "name": "ipython",
    "version": 3
   },
   "file_extension": ".py",
   "mimetype": "text/x-python",
   "name": "python",
   "nbconvert_exporter": "python",
   "pygments_lexer": "ipython3",
   "version": "3.10.9"
  },
  "orig_nbformat": 4,
  "vscode": {
   "interpreter": {
    "hash": "505ce480723b6d1e83bbdf4bbba1a5472a40d9b2c1af17ab231a90de6fba7177"
   }
  }
 },
 "nbformat": 4,
 "nbformat_minor": 2
}
